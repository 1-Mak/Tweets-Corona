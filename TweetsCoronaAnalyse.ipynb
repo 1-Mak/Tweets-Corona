{
  "nbformat": 4,
  "nbformat_minor": 0,
  "metadata": {
    "colab": {
      "provenance": []
    },
    "kernelspec": {
      "name": "python3",
      "display_name": "Python 3"
    },
    "language_info": {
      "name": "python"
    }
  },
  "cells": [
    {
      "cell_type": "code",
      "execution_count": null,
      "metadata": {
        "id": "muTXve4TRy5r"
      },
      "outputs": [],
      "source": [
        "import numpy as np\n",
        "import pandas as pd\n",
        "from typing import  List\n",
        "import matplotlib.pyplot as plt\n",
        "import seaborn as sns\n",
        "from string import punctuation"
      ]
    },
    {
      "cell_type": "code",
      "source": [
        "data = pd.read_csv('tweets_coronavirus.csv')\n",
        "data.sample(5)"
      ],
      "metadata": {
        "id": "shnVtmprR86C",
        "colab": {
          "base_uri": "https://localhost:8080/",
          "height": 206
        },
        "outputId": "c903d377-81de-4a7c-e36a-dba7c91b6dc3"
      },
      "execution_count": null,
      "outputs": [
        {
          "output_type": "execute_result",
          "data": {
            "text/plain": [
              "       UserName  ScreenName                Location     TweetAt  \\\n",
              "5153      10062       55014         London, England  19-03-2020   \n",
              "6726      11981       56933             Seattle, WA  19-03-2020   \n",
              "4622       9406       54358              Hollywood   19-03-2020   \n",
              "12454     18894       63846  Revelstoke, BC, Canada  22-03-2020   \n",
              "16908     24381       69333                     NaN  25-03-2020   \n",
              "\n",
              "                                           OriginalTweet           Sentiment  \n",
              "5153   What is wrong with people?\\r\\r\\n\\r\\r\\n#Coronav...  Extremely Negative  \n",
              "6726   Fred Meyer and QFC stores have reached an unde...            Positive  \n",
              "4622   @tranquileyes30 Grocery shopping, walking dog ...            Positive  \n",
              "12454  Finally leadership German chancellor Angela Me...            Positive  \n",
              "16908  Gov. #Baker #prohibits #reusable #shopping #ba...            Negative  "
            ],
            "text/html": [
              "\n",
              "  <div id=\"df-c440bc05-4b19-4c0d-a754-0734ad970d7f\" class=\"colab-df-container\">\n",
              "    <div>\n",
              "<style scoped>\n",
              "    .dataframe tbody tr th:only-of-type {\n",
              "        vertical-align: middle;\n",
              "    }\n",
              "\n",
              "    .dataframe tbody tr th {\n",
              "        vertical-align: top;\n",
              "    }\n",
              "\n",
              "    .dataframe thead th {\n",
              "        text-align: right;\n",
              "    }\n",
              "</style>\n",
              "<table border=\"1\" class=\"dataframe\">\n",
              "  <thead>\n",
              "    <tr style=\"text-align: right;\">\n",
              "      <th></th>\n",
              "      <th>UserName</th>\n",
              "      <th>ScreenName</th>\n",
              "      <th>Location</th>\n",
              "      <th>TweetAt</th>\n",
              "      <th>OriginalTweet</th>\n",
              "      <th>Sentiment</th>\n",
              "    </tr>\n",
              "  </thead>\n",
              "  <tbody>\n",
              "    <tr>\n",
              "      <th>5153</th>\n",
              "      <td>10062</td>\n",
              "      <td>55014</td>\n",
              "      <td>London, England</td>\n",
              "      <td>19-03-2020</td>\n",
              "      <td>What is wrong with people?\\r\\r\\n\\r\\r\\n#Coronav...</td>\n",
              "      <td>Extremely Negative</td>\n",
              "    </tr>\n",
              "    <tr>\n",
              "      <th>6726</th>\n",
              "      <td>11981</td>\n",
              "      <td>56933</td>\n",
              "      <td>Seattle, WA</td>\n",
              "      <td>19-03-2020</td>\n",
              "      <td>Fred Meyer and QFC stores have reached an unde...</td>\n",
              "      <td>Positive</td>\n",
              "    </tr>\n",
              "    <tr>\n",
              "      <th>4622</th>\n",
              "      <td>9406</td>\n",
              "      <td>54358</td>\n",
              "      <td>Hollywood</td>\n",
              "      <td>19-03-2020</td>\n",
              "      <td>@tranquileyes30 Grocery shopping, walking dog ...</td>\n",
              "      <td>Positive</td>\n",
              "    </tr>\n",
              "    <tr>\n",
              "      <th>12454</th>\n",
              "      <td>18894</td>\n",
              "      <td>63846</td>\n",
              "      <td>Revelstoke, BC, Canada</td>\n",
              "      <td>22-03-2020</td>\n",
              "      <td>Finally leadership German chancellor Angela Me...</td>\n",
              "      <td>Positive</td>\n",
              "    </tr>\n",
              "    <tr>\n",
              "      <th>16908</th>\n",
              "      <td>24381</td>\n",
              "      <td>69333</td>\n",
              "      <td>NaN</td>\n",
              "      <td>25-03-2020</td>\n",
              "      <td>Gov. #Baker #prohibits #reusable #shopping #ba...</td>\n",
              "      <td>Negative</td>\n",
              "    </tr>\n",
              "  </tbody>\n",
              "</table>\n",
              "</div>\n",
              "    <div class=\"colab-df-buttons\">\n",
              "\n",
              "  <div class=\"colab-df-container\">\n",
              "    <button class=\"colab-df-convert\" onclick=\"convertToInteractive('df-c440bc05-4b19-4c0d-a754-0734ad970d7f')\"\n",
              "            title=\"Convert this dataframe to an interactive table.\"\n",
              "            style=\"display:none;\">\n",
              "\n",
              "  <svg xmlns=\"http://www.w3.org/2000/svg\" height=\"24px\" viewBox=\"0 -960 960 960\">\n",
              "    <path d=\"M120-120v-720h720v720H120Zm60-500h600v-160H180v160Zm220 220h160v-160H400v160Zm0 220h160v-160H400v160ZM180-400h160v-160H180v160Zm440 0h160v-160H620v160ZM180-180h160v-160H180v160Zm440 0h160v-160H620v160Z\"/>\n",
              "  </svg>\n",
              "    </button>\n",
              "\n",
              "  <style>\n",
              "    .colab-df-container {\n",
              "      display:flex;\n",
              "      gap: 12px;\n",
              "    }\n",
              "\n",
              "    .colab-df-convert {\n",
              "      background-color: #E8F0FE;\n",
              "      border: none;\n",
              "      border-radius: 50%;\n",
              "      cursor: pointer;\n",
              "      display: none;\n",
              "      fill: #1967D2;\n",
              "      height: 32px;\n",
              "      padding: 0 0 0 0;\n",
              "      width: 32px;\n",
              "    }\n",
              "\n",
              "    .colab-df-convert:hover {\n",
              "      background-color: #E2EBFA;\n",
              "      box-shadow: 0px 1px 2px rgba(60, 64, 67, 0.3), 0px 1px 3px 1px rgba(60, 64, 67, 0.15);\n",
              "      fill: #174EA6;\n",
              "    }\n",
              "\n",
              "    .colab-df-buttons div {\n",
              "      margin-bottom: 4px;\n",
              "    }\n",
              "\n",
              "    [theme=dark] .colab-df-convert {\n",
              "      background-color: #3B4455;\n",
              "      fill: #D2E3FC;\n",
              "    }\n",
              "\n",
              "    [theme=dark] .colab-df-convert:hover {\n",
              "      background-color: #434B5C;\n",
              "      box-shadow: 0px 1px 3px 1px rgba(0, 0, 0, 0.15);\n",
              "      filter: drop-shadow(0px 1px 2px rgba(0, 0, 0, 0.3));\n",
              "      fill: #FFFFFF;\n",
              "    }\n",
              "  </style>\n",
              "\n",
              "    <script>\n",
              "      const buttonEl =\n",
              "        document.querySelector('#df-c440bc05-4b19-4c0d-a754-0734ad970d7f button.colab-df-convert');\n",
              "      buttonEl.style.display =\n",
              "        google.colab.kernel.accessAllowed ? 'block' : 'none';\n",
              "\n",
              "      async function convertToInteractive(key) {\n",
              "        const element = document.querySelector('#df-c440bc05-4b19-4c0d-a754-0734ad970d7f');\n",
              "        const dataTable =\n",
              "          await google.colab.kernel.invokeFunction('convertToInteractive',\n",
              "                                                    [key], {});\n",
              "        if (!dataTable) return;\n",
              "\n",
              "        const docLinkHtml = 'Like what you see? Visit the ' +\n",
              "          '<a target=\"_blank\" href=https://colab.research.google.com/notebooks/data_table.ipynb>data table notebook</a>'\n",
              "          + ' to learn more about interactive tables.';\n",
              "        element.innerHTML = '';\n",
              "        dataTable['output_type'] = 'display_data';\n",
              "        await google.colab.output.renderOutput(dataTable, element);\n",
              "        const docLink = document.createElement('div');\n",
              "        docLink.innerHTML = docLinkHtml;\n",
              "        element.appendChild(docLink);\n",
              "      }\n",
              "    </script>\n",
              "  </div>\n",
              "\n",
              "\n",
              "<div id=\"df-7ea8a455-44bc-4ea7-888f-89dc3c1b1e7d\">\n",
              "  <button class=\"colab-df-quickchart\" onclick=\"quickchart('df-7ea8a455-44bc-4ea7-888f-89dc3c1b1e7d')\"\n",
              "            title=\"Suggest charts\"\n",
              "            style=\"display:none;\">\n",
              "\n",
              "<svg xmlns=\"http://www.w3.org/2000/svg\" height=\"24px\"viewBox=\"0 0 24 24\"\n",
              "     width=\"24px\">\n",
              "    <g>\n",
              "        <path d=\"M19 3H5c-1.1 0-2 .9-2 2v14c0 1.1.9 2 2 2h14c1.1 0 2-.9 2-2V5c0-1.1-.9-2-2-2zM9 17H7v-7h2v7zm4 0h-2V7h2v10zm4 0h-2v-4h2v4z\"/>\n",
              "    </g>\n",
              "</svg>\n",
              "  </button>\n",
              "\n",
              "<style>\n",
              "  .colab-df-quickchart {\n",
              "      --bg-color: #E8F0FE;\n",
              "      --fill-color: #1967D2;\n",
              "      --hover-bg-color: #E2EBFA;\n",
              "      --hover-fill-color: #174EA6;\n",
              "      --disabled-fill-color: #AAA;\n",
              "      --disabled-bg-color: #DDD;\n",
              "  }\n",
              "\n",
              "  [theme=dark] .colab-df-quickchart {\n",
              "      --bg-color: #3B4455;\n",
              "      --fill-color: #D2E3FC;\n",
              "      --hover-bg-color: #434B5C;\n",
              "      --hover-fill-color: #FFFFFF;\n",
              "      --disabled-bg-color: #3B4455;\n",
              "      --disabled-fill-color: #666;\n",
              "  }\n",
              "\n",
              "  .colab-df-quickchart {\n",
              "    background-color: var(--bg-color);\n",
              "    border: none;\n",
              "    border-radius: 50%;\n",
              "    cursor: pointer;\n",
              "    display: none;\n",
              "    fill: var(--fill-color);\n",
              "    height: 32px;\n",
              "    padding: 0;\n",
              "    width: 32px;\n",
              "  }\n",
              "\n",
              "  .colab-df-quickchart:hover {\n",
              "    background-color: var(--hover-bg-color);\n",
              "    box-shadow: 0 1px 2px rgba(60, 64, 67, 0.3), 0 1px 3px 1px rgba(60, 64, 67, 0.15);\n",
              "    fill: var(--button-hover-fill-color);\n",
              "  }\n",
              "\n",
              "  .colab-df-quickchart-complete:disabled,\n",
              "  .colab-df-quickchart-complete:disabled:hover {\n",
              "    background-color: var(--disabled-bg-color);\n",
              "    fill: var(--disabled-fill-color);\n",
              "    box-shadow: none;\n",
              "  }\n",
              "\n",
              "  .colab-df-spinner {\n",
              "    border: 2px solid var(--fill-color);\n",
              "    border-color: transparent;\n",
              "    border-bottom-color: var(--fill-color);\n",
              "    animation:\n",
              "      spin 1s steps(1) infinite;\n",
              "  }\n",
              "\n",
              "  @keyframes spin {\n",
              "    0% {\n",
              "      border-color: transparent;\n",
              "      border-bottom-color: var(--fill-color);\n",
              "      border-left-color: var(--fill-color);\n",
              "    }\n",
              "    20% {\n",
              "      border-color: transparent;\n",
              "      border-left-color: var(--fill-color);\n",
              "      border-top-color: var(--fill-color);\n",
              "    }\n",
              "    30% {\n",
              "      border-color: transparent;\n",
              "      border-left-color: var(--fill-color);\n",
              "      border-top-color: var(--fill-color);\n",
              "      border-right-color: var(--fill-color);\n",
              "    }\n",
              "    40% {\n",
              "      border-color: transparent;\n",
              "      border-right-color: var(--fill-color);\n",
              "      border-top-color: var(--fill-color);\n",
              "    }\n",
              "    60% {\n",
              "      border-color: transparent;\n",
              "      border-right-color: var(--fill-color);\n",
              "    }\n",
              "    80% {\n",
              "      border-color: transparent;\n",
              "      border-right-color: var(--fill-color);\n",
              "      border-bottom-color: var(--fill-color);\n",
              "    }\n",
              "    90% {\n",
              "      border-color: transparent;\n",
              "      border-bottom-color: var(--fill-color);\n",
              "    }\n",
              "  }\n",
              "</style>\n",
              "\n",
              "  <script>\n",
              "    async function quickchart(key) {\n",
              "      const quickchartButtonEl =\n",
              "        document.querySelector('#' + key + ' button');\n",
              "      quickchartButtonEl.disabled = true;  // To prevent multiple clicks.\n",
              "      quickchartButtonEl.classList.add('colab-df-spinner');\n",
              "      try {\n",
              "        const charts = await google.colab.kernel.invokeFunction(\n",
              "            'suggestCharts', [key], {});\n",
              "      } catch (error) {\n",
              "        console.error('Error during call to suggestCharts:', error);\n",
              "      }\n",
              "      quickchartButtonEl.classList.remove('colab-df-spinner');\n",
              "      quickchartButtonEl.classList.add('colab-df-quickchart-complete');\n",
              "    }\n",
              "    (() => {\n",
              "      let quickchartButtonEl =\n",
              "        document.querySelector('#df-7ea8a455-44bc-4ea7-888f-89dc3c1b1e7d button');\n",
              "      quickchartButtonEl.style.display =\n",
              "        google.colab.kernel.accessAllowed ? 'block' : 'none';\n",
              "    })();\n",
              "  </script>\n",
              "</div>\n",
              "    </div>\n",
              "  </div>\n"
            ],
            "application/vnd.google.colaboratory.intrinsic+json": {
              "type": "dataframe",
              "repr_error": "0"
            }
          },
          "metadata": {},
          "execution_count": 2
        }
      ]
    },
    {
      "cell_type": "code",
      "source": [
        "\n",
        "data['Sentiment'].replace({\"Negative\": 0, \"Extremely Negative\": 0, \"Positive\": 1, \"Extremely Positive\": 1}, inplace=True)\n",
        "\n",
        "\n",
        "data_diff = (data.groupby(['Sentiment']).size().max() - data.groupby(['Sentiment']).size().min()) / data.groupby(['Sentiment']).size().max() * 100\n",
        "print(\"Разница: \", data_diff.round(), \"%\", sep ='')\n"
      ],
      "metadata": {
        "colab": {
          "base_uri": "https://localhost:8080/"
        },
        "id": "-JvxfUnVS9wv",
        "outputId": "a9c07b55-39f0-4cce-f9ce-0e4148bf41b4"
      },
      "execution_count": null,
      "outputs": [
        {
          "output_type": "stream",
          "name": "stdout",
          "text": [
            "Разница: 15.0%\n"
          ]
        }
      ]
    },
    {
      "cell_type": "markdown",
      "source": [
        "То есть разница в количестве данных в классах составила всего 15%. Ранее было предположено считать, что классы сбалансированы при 30% и менее. Значит данные сбалансированы."
      ],
      "metadata": {
        "id": "U_BgvsQmWQaL"
      }
    },
    {
      "cell_type": "code",
      "source": [
        "from sklearn.impute import SimpleImputer\n",
        "print(\"Количество пропусков в data:\", data.isnull().sum())\n",
        "replacer = SimpleImputer(strategy = \"constant\", fill_value=\"unknown\")\n",
        "data_nomiss = pd.DataFrame(data = replacer.fit_transform(data), columns=data.columns\n",
        ")\n",
        "\n"
      ],
      "metadata": {
        "colab": {
          "base_uri": "https://localhost:8080/"
        },
        "id": "JndB5U5_Ub2z",
        "outputId": "9854250c-ee54-4764-9af2-dd84d6b0c9f8"
      },
      "execution_count": null,
      "outputs": [
        {
          "output_type": "stream",
          "name": "stdout",
          "text": [
            "Количество пропусков в data: UserName            0\n",
            "ScreenName          0\n",
            "Location         7049\n",
            "TweetAt             0\n",
            "OriginalTweet       0\n",
            "Sentiment           0\n",
            "dtype: int64\n"
          ]
        }
      ]
    },
    {
      "cell_type": "code",
      "source": [
        "from sklearn.model_selection import train_test_split\n",
        "target = data_nomiss['Sentiment']\n",
        "X_train, X_test, y_train, y_test = train_test_split(\n",
        "    data_nomiss, target, test_size=0.3, random_state=0\n",
        ")\n",
        "\n",
        "\n",
        "\n"
      ],
      "metadata": {
        "id": "pa_QanlbXIEB"
      },
      "execution_count": null,
      "outputs": []
    },
    {
      "cell_type": "code",
      "source": [
        "!pip install nltk"
      ],
      "metadata": {
        "colab": {
          "base_uri": "https://localhost:8080/"
        },
        "id": "ufKZxeqJaG91",
        "outputId": "c2f1d239-0394-4918-f85e-3bd96606da73"
      },
      "execution_count": null,
      "outputs": [
        {
          "output_type": "stream",
          "name": "stdout",
          "text": [
            "Requirement already satisfied: nltk in /usr/local/lib/python3.10/dist-packages (3.8.1)\n",
            "Requirement already satisfied: click in /usr/local/lib/python3.10/dist-packages (from nltk) (8.1.7)\n",
            "Requirement already satisfied: joblib in /usr/local/lib/python3.10/dist-packages (from nltk) (1.4.2)\n",
            "Requirement already satisfied: regex>=2021.8.3 in /usr/local/lib/python3.10/dist-packages (from nltk) (2023.12.25)\n",
            "Requirement already satisfied: tqdm in /usr/local/lib/python3.10/dist-packages (from nltk) (4.66.4)\n"
          ]
        }
      ]
    },
    {
      "cell_type": "code",
      "source": [
        "import nltk\n",
        "from nltk.tokenize import word_tokenize\n",
        "nltk.download(\"punkt\", quiet=True)\n",
        "from nltk.corpus import stopwords\n",
        "nltk.download(\"stopwords\", quiet=True)\n"
      ],
      "metadata": {
        "colab": {
          "base_uri": "https://localhost:8080/"
        },
        "id": "NyfoUOOpaGOW",
        "outputId": "81115c4a-5fc8-4dd8-e827-8e33647c354b"
      },
      "execution_count": null,
      "outputs": [
        {
          "output_type": "execute_result",
          "data": {
            "text/plain": [
              "True"
            ]
          },
          "metadata": {},
          "execution_count": 7
        }
      ]
    },
    {
      "cell_type": "code",
      "source": [
        "tokens = {}\n",
        "\n",
        "\n",
        "for i in X_train['OriginalTweet']:\n",
        "  token = i.lower().split()\n",
        "  for j in token:\n",
        "    if j in tokens:\n",
        "      tokens[j] += 1\n",
        "    else:\n",
        "      tokens[j] = 1\n",
        "\n",
        "print(len(tokens))\n",
        "\n"
      ],
      "metadata": {
        "colab": {
          "base_uri": "https://localhost:8080/"
        },
        "id": "1wgj09PcOqAQ",
        "outputId": "6b5763f0-868a-4c91-fe03-04a16c0fafb5"
      },
      "execution_count": null,
      "outputs": [
        {
          "output_type": "stream",
          "name": "stdout",
          "text": [
            "79753\n"
          ]
        }
      ]
    },
    {
      "cell_type": "code",
      "source": [
        "sorted_tokens = sorted(tokens.items(), key=lambda x: x[1], reverse=True)\n",
        "sorted_10 = sorted_tokens[:10]\n",
        "\n",
        "for key, value in sorted_10:\n",
        "    print(f\"{key}: {value}\")"
      ],
      "metadata": {
        "colab": {
          "base_uri": "https://localhost:8080/"
        },
        "id": "ll9Zc2unRchJ",
        "outputId": "3e4fab03-355b-4c7d-bee0-4769508662a5"
      },
      "execution_count": null,
      "outputs": [
        {
          "output_type": "stream",
          "name": "stdout",
          "text": [
            "the: 26815\n",
            "to: 23373\n",
            "and: 14684\n",
            "of: 13012\n",
            "a: 11737\n",
            "in: 11198\n",
            "for: 8566\n",
            "#coronavirus: 8223\n",
            "is: 7383\n",
            "are: 7050\n"
          ]
        }
      ]
    },
    {
      "cell_type": "markdown",
      "source": [
        "Эти токены в топе потому что по сути являются словами несущими минимальную смысловую нагрузку, но тем не менее выполняющие роль связи других слов. \"to\", \"and\", \"of\", \"for\" - это предлоги, которые используются часто в разных предложениях вне зависимости от контекста. Также \"the\" и \"a\" частицы указатели в английском языке. \"is\" и \"are\" также используются везде и в большом количестве так как это формы настоящего времени в английском языке и без них невозможно построить предложение.\"#coronavirus\" хэштег, который описывает наш топик, почти все твиты будут так или иначе с ним связаны."
      ],
      "metadata": {
        "id": "ZEa7NubxUwuz"
      }
    },
    {
      "cell_type": "code",
      "source": [
        "from nltk.corpus import stopwords\n",
        "tokens_to_del = stopwords.words(\"english\")\n",
        "\n",
        "for i in tokens_to_del:\n",
        "  if i in tokens:\n",
        "    del tokens[i]\n"
      ],
      "metadata": {
        "id": "EEO0Yka1Vz8E"
      },
      "execution_count": null,
      "outputs": []
    },
    {
      "cell_type": "code",
      "source": [
        "sorted_tokens = sorted(tokens.items(), key=lambda x: x[1], reverse=True)\n",
        "sorted_10 = sorted_tokens[:10]\n",
        "\n",
        "for key, value in sorted_10:\n",
        "    print(f\"{key}: {value}\")"
      ],
      "metadata": {
        "colab": {
          "base_uri": "https://localhost:8080/"
        },
        "id": "yqH_KHnYaLZG",
        "outputId": "103b354c-02aa-4982-c207-a48dc8eb7f6c"
      },
      "execution_count": null,
      "outputs": [
        {
          "output_type": "stream",
          "name": "stdout",
          "text": [
            "#coronavirus: 8223\n",
            "prices: 3891\n",
            "food: 3820\n",
            "grocery: 3469\n",
            "supermarket: 3288\n",
            "people: 3175\n",
            "covid-19: 3173\n",
            "store: 3155\n",
            "#covid19: 2471\n",
            "&amp;: 2314\n"
          ]
        }
      ]
    },
    {
      "cell_type": "markdown",
      "source": [
        "Здесь почти все слова относятся к нашему топику, подходят по смыслу. Связаны с ценой, продуктами, магазинами, с переживаниями людей в то время."
      ],
      "metadata": {
        "id": "Cvn4V22wbCfd"
      }
    },
    {
      "cell_type": "code",
      "source": [
        "sorted_tokens = sorted(tokens.items(), key=lambda x: x[1])\n",
        "sorted_20 = sorted_tokens[:20]\n",
        "\n",
        "for key, value in sorted_20:\n",
        "    print(f\"{key}: {value}\")\n",
        "\n"
      ],
      "metadata": {
        "colab": {
          "base_uri": "https://localhost:8080/"
        },
        "id": "KRHDJI9qbucA",
        "outputId": "6a666e18-7eaf-41f7-d3d2-de929e1974ff"
      },
      "execution_count": null,
      "outputs": [
        {
          "output_type": "stream",
          "name": "stdout",
          "text": [
            "https://t.co/1m881cwfuv: 1\n",
            "happy..: 1\n",
            "https://t.co/z0intks34x: 1\n",
            "mnuchinâs: 1\n",
            "brink.: 1\n",
            "https://t.co/jmobv8z0u0: 1\n",
            "university's: 1\n",
            "teaching.): 1\n",
            "@catholicpres: 1\n",
            "@catholicuniv: 1\n",
            "https://t.co/evqby035wf: 1\n",
            "https://t.co/riqrhxxeim: 1\n",
            "@@ballardspahrll: 1\n",
            "#aca: 1\n",
            "easier...take: 1\n",
            "ânecessaryâ: 1\n",
            "https://t.co/0fmsmlgepm: 1\n",
            "husted:: 1\n",
            "irishman: 1\n",
            "#happystpatricksday!: 1\n"
          ]
        }
      ]
    },
    {
      "cell_type": "markdown",
      "source": [
        "Здесь в основном ссылки, слова со знаками препинания в конце, упоминания никнейма определенных пользователей, это и делает эти токены редко используемыми. Если удалить знаки препинания, отредактировать ссылки, то получатся более релевантные токены.\n"
      ],
      "metadata": {
        "id": "uDRhPrHCcg_n"
      }
    },
    {
      "cell_type": "code",
      "source": [
        "from nltk.tokenize import TweetTokenizer\n",
        "tw = TweetTokenizer()\n",
        "tokens_tw = {}\n",
        "\n",
        "\n",
        "for i in X_train['OriginalTweet']:\n",
        "  token = tw.tokenize(i)\n",
        "\n",
        "  for j in token:\n",
        "    if j in tokens_tw:\n",
        "      tokens_tw[j] += 1\n",
        "    else:\n",
        "      tokens_tw[j] = 1\n",
        "\n",
        "print(len(tokens_tw))\n",
        "sorted_tokens = sorted(tokens_tw.items(), key=lambda x: x[1], reverse=True)\n",
        "sorted_10 = sorted_tokens[:10]\n",
        "\n",
        "for key, value in sorted_10:\n",
        "    print(f\"{key}: {value}\")"
      ],
      "metadata": {
        "colab": {
          "base_uri": "https://localhost:8080/"
        },
        "id": "MDUcsullUzXe",
        "outputId": "0036ed45-b0a4-4d1c-9418-b6a91f72096a"
      },
      "execution_count": null,
      "outputs": [
        {
          "output_type": "stream",
          "name": "stdout",
          "text": [
            "68232\n",
            "the: 24337\n",
            ".: 24118\n",
            "to: 22933\n",
            ",: 17571\n",
            "and: 14354\n",
            "of: 12904\n",
            "a: 11045\n",
            "in: 10573\n",
            "?: 9524\n",
            "for: 8228\n"
          ]
        }
      ]
    },
    {
      "cell_type": "markdown",
      "source": [
        "Здесь все та же проблема, нет удаления стоп-слов + также есть знаки препинания, этот токенайзер сохраняет их отдельно."
      ],
      "metadata": {
        "id": "bNpFKe70cViy"
      }
    },
    {
      "cell_type": "code",
      "source": [
        "from string import punctuation\n",
        "for i in tokens_to_del:\n",
        "  if i in tokens_tw:\n",
        "    del tokens_tw[i]\n",
        "new_tokens_tw = {}\n",
        "for key, value in tokens_tw.items():\n",
        "  for i in punctuation:\n",
        "    key = key.replace(i, '')\n",
        "  new_tokens_tw[key] = value\n",
        "sorted_tokens = sorted(new_tokens_tw.items(), key=lambda x: x[1], reverse=True)\n",
        "sorted_10 = sorted_tokens[:10]\n",
        "\n",
        "for key, value in sorted_10:\n",
        "    print(f\"{key}: {value}\")"
      ],
      "metadata": {
        "colab": {
          "base_uri": "https://localhost:8080/"
        },
        "id": "ZjB5xttPcppg",
        "outputId": "7aed080d-1ce7-44e3-b983-f1d1e69db70c"
      },
      "execution_count": null,
      "outputs": [
        {
          "output_type": "stream",
          "name": "stdout",
          "text": [
            "I: 5235\n",
            ": 4372\n",
            "The: 2516\n",
            "get: 1636\n",
            "need: 1583\n",
            "We: 1425\n",
            "time: 1346\n",
            "go: 1218\n",
            "going: 1108\n",
            "This: 1000\n"
          ]
        }
      ]
    },
    {
      "cell_type": "markdown",
      "source": [
        "Здесь есть странный символ  например, также есть стоп-слова, которые находятся не в нижнем регистре и их не получилось удалить."
      ],
      "metadata": {
        "id": "uQMIH_CBfWem"
      }
    },
    {
      "cell_type": "code",
      "source": [
        "new_new_tokens_tw = {}\n",
        "for key, value in new_tokens_tw.items():\n",
        "    if len(key) > 1 or (len(key) == 1 and ord(key) < 128):\n",
        "      new_new_tokens_tw[key] = value\n",
        "sorted_tokens = sorted(new_new_tokens_tw.items(), key=lambda x: x[1], reverse=True)\n",
        "sorted_10 = sorted_tokens[:10]\n",
        "sorted_tokens_reversed = sorted(new_new_tokens_tw.items(), key=lambda x: x[1])\n",
        "sorted_20 = sorted_tokens_reversed[:20]\n",
        "print(\"TOP 10 TOKENS:\")\n",
        "print()\n",
        "for key, value in sorted_10:\n",
        "    print(f\"{key}: {value}\")\n",
        "print()\n",
        "print(\"BOTTOM 20 TOKENS:\")\n",
        "print()\n",
        "for key, value in sorted_20:\n",
        "    print(f\"{key}: {value}\")"
      ],
      "metadata": {
        "colab": {
          "base_uri": "https://localhost:8080/"
        },
        "id": "knm_49gafvS7",
        "outputId": "50c74293-2613-4a49-baff-88bf0247f343"
      },
      "execution_count": null,
      "outputs": [
        {
          "output_type": "stream",
          "name": "stdout",
          "text": [
            "TOP 10 TOKENS:\n",
            "\n",
            "I: 5235\n",
            "The: 2516\n",
            "get: 1636\n",
            "need: 1583\n",
            "We: 1425\n",
            "time: 1346\n",
            "go: 1218\n",
            "going: 1108\n",
            "This: 1000\n",
            "one: 954\n",
            "\n",
            "BOTTOM 20 TOKENS:\n",
            "\n",
            "httpstco1m881CwFUv: 1\n",
            "shopping: 1\n",
            "Covid19: 1\n",
            "driving: 1\n",
            "April: 1\n",
            "value: 1\n",
            "job: 1\n",
            "httpstcoZ0intkS34x: 1\n",
            "MnuchinÂ: 1\n",
            "people: 1\n",
            "httpstcoJmoBv8z0U0: 1\n",
            "Universitys: 1\n",
            "workers: 1\n",
            "set: 1\n",
            "CatholicPres: 1\n",
            "CatholicUniv: 1\n",
            "httpstcoEvQby035wF: 1\n",
            "understand: 1\n",
            "litigation: 1\n",
            "risks: 1\n"
          ]
        }
      ]
    },
    {
      "cell_type": "markdown",
      "source": [
        "Топ 10 значений включает в себя неприведенные в нижний регистр стоп-слова, которые не несут никакого значения для нас. В редко используемых выражениях теперь нет ссылок и хештегов, остались слова и обработанные странным образом куски ссылок."
      ],
      "metadata": {
        "id": "KuPr68mR35VK"
      }
    },
    {
      "cell_type": "code",
      "source": [
        "hash_tokens_tw = {}\n",
        "for key, value in tokens.items():\n",
        "    for i in key:\n",
        "      if i == \"#\":\n",
        "        hash_tokens_tw[key] = value\n",
        "sorted_tokens = sorted(hash_tokens_tw.items(), key=lambda x: x[1], reverse=True)\n",
        "sorted_10 = sorted_tokens[:10]\n",
        "for key, value in sorted_10:\n",
        "    print(f\"{key}: {value}\")"
      ],
      "metadata": {
        "colab": {
          "base_uri": "https://localhost:8080/"
        },
        "id": "AvIh1n-l4y_F",
        "outputId": "5a860938-ee2a-47c2-d302-8314bab0dc5a"
      },
      "execution_count": null,
      "outputs": [
        {
          "output_type": "stream",
          "name": "stdout",
          "text": [
            "#coronavirus: 8223\n",
            "#covid19: 2471\n",
            "#covid_19: 1660\n",
            "#covid2019: 915\n",
            "#toiletpaper: 691\n",
            "#socialdistancing: 427\n",
            "#coronacrisis: 423\n",
            "#covid?19: 418\n",
            "#coronaviruspandemic: 245\n",
            "#pandemic: 232\n"
          ]
        }
      ]
    },
    {
      "cell_type": "markdown",
      "source": [
        "Большая часть связана исключительно с ковидом, коронавирусом, они значат почти одно и то же. Выделяющийся хештег про туалетную бумагу, видимо люди были очень обеспокоены именно об этом."
      ],
      "metadata": {
        "id": "ApEKoId26PyX"
      }
    },
    {
      "cell_type": "code",
      "source": [
        "http_tokens = {}\n",
        "for key, value in tokens.items():\n",
        "    for i in key:\n",
        "      if \"https://t.co\" in key:\n",
        "        http_tokens[key] = value\n",
        "sorted_tokens = sorted(http_tokens.items(), key=lambda x: x[1], reverse=True)\n",
        "sorted_10 = sorted_tokens[:10]\n",
        "for key, value in sorted_10:\n",
        "    print(f\"{key}: {value}\")"
      ],
      "metadata": {
        "colab": {
          "base_uri": "https://localhost:8080/"
        },
        "id": "XYs1WI-X6k18",
        "outputId": "f10917d9-da3f-4e75-b119-d0aadb76b413"
      },
      "execution_count": null,
      "outputs": [
        {
          "output_type": "stream",
          "name": "stdout",
          "text": [
            "https://t.co/oxa7swtond: 5\n",
            "https://t.co/gp3eusapl8: 4\n",
            "https://t.co/deftrui1pfâ: 3\n",
            "https://t.co/wrlhyzizaa: 3\n",
            "https://t.co/kuwipf1kqw: 3\n",
            "https://t.co/zjnrx6dkkn: 3\n",
            "https://t.co/3gbbdpdjat: 3\n",
            "https://t.co/e2znxajpre: 3\n",
            "https://t.co/catkegayoy: 3\n",
            "https://t.co/g63rp042ho: 3\n"
          ]
        }
      ]
    },
    {
      "cell_type": "markdown",
      "source": [
        "Ссылок очень мало, не более 5 одинаковых, ведущих на одну страницу. Я сомневаюсь что они будут полезны нам."
      ],
      "metadata": {
        "id": "i9A53C2v7zkq"
      }
    },
    {
      "cell_type": "code",
      "source": [
        "def custom_tokenizer(text):\n",
        "  tokens_to_del = stopwords.words(\"english\")\n",
        "  text = text.lower()\n",
        "  tw = TweetTokenizer()\n",
        "  tokens = tw.tokenize(text)\n",
        "  new_tokens = []\n",
        "  for i in tokens:\n",
        "    if (i not in punctuation) and (\"https://t.co\" not in i) and (i not in tokens_to_del) and (len(i) > 1 or (len(i) == 1 and ord(i) < 128)):\n",
        "      new_tokens.append(i)\n",
        "\n",
        "\n",
        "\n",
        "  return new_tokens\n",
        "print(custom_tokenizer('This is sample text!!!! @Sample_text I, \\x92\\x92 https://t.co/sample  #sampletext'))\n"
      ],
      "metadata": {
        "colab": {
          "base_uri": "https://localhost:8080/"
        },
        "id": "tRGHwXji8EPj",
        "outputId": "0f5d09e3-3b24-4cac-c534-62cd7d4cce26"
      },
      "execution_count": null,
      "outputs": [
        {
          "output_type": "stream",
          "name": "stdout",
          "text": [
            "['sample', 'text', '@sample_text', '#sampletext']\n"
          ]
        }
      ]
    },
    {
      "cell_type": "code",
      "source": [
        "\n",
        "\n",
        "\n",
        "from sklearn.feature_extraction.text import CountVectorizer\n",
        "tokens_end = X_train['OriginalTweet'].tolist()\n",
        "cv = CountVectorizer(tokenizer=custom_tokenizer)\n",
        "XCV = cv.fit_transform(tokens_end)\n",
        "print(\"Размер словаря:\", len(cv.vocabulary_))\n",
        "\n"
      ],
      "metadata": {
        "colab": {
          "base_uri": "https://localhost:8080/"
        },
        "id": "ZS7uGkVLf_tk",
        "outputId": "29ab3480-b7b7-4dfe-a355-30f6f30bee54"
      },
      "execution_count": null,
      "outputs": [
        {
          "output_type": "stream",
          "name": "stderr",
          "text": [
            "/usr/local/lib/python3.10/dist-packages/sklearn/feature_extraction/text.py:528: UserWarning: The parameter 'token_pattern' will not be used since 'tokenizer' is not None'\n",
            "  warnings.warn(\n"
          ]
        },
        {
          "output_type": "stream",
          "name": "stdout",
          "text": [
            "Размер словаря: 45316\n"
          ]
        }
      ]
    },
    {
      "cell_type": "code",
      "source": [
        "ind = 9023\n",
        "tweet, sentiment = X_train.iloc[ind]['OriginalTweet'], X_train.iloc[ind]['Sentiment']\n",
        "tweet"
      ],
      "metadata": {
        "colab": {
          "base_uri": "https://localhost:8080/",
          "height": 35
        },
        "id": "rpq3BbXlkK_6",
        "outputId": "2d815e9e-ecb3-4c58-a474-627a7c19761a"
      },
      "execution_count": null,
      "outputs": [
        {
          "output_type": "execute_result",
          "data": {
            "text/plain": [
              "'Nice one @SkyNews lets not panic but show ppl in france queueing for food!!! #CoronavirusOutbreak #COVID2019 brainless!! Ffs'"
            ],
            "application/vnd.google.colaboratory.intrinsic+json": {
              "type": "string"
            }
          },
          "metadata": {},
          "execution_count": 20
        }
      ]
    },
    {
      "cell_type": "code",
      "source": [
        "vec = cv.transform([tweet])\n",
        "array = vec.toarray()\n",
        "max_index = array.argmax()\n",
        "min_index = array[array > 0].argmin()\n",
        "features = cv.get_feature_names_out()\n",
        "max_token = features[max_index]\n",
        "min_token = features[min_index]\n",
        "\n",
        "\n",
        "max_token, min_token"
      ],
      "metadata": {
        "colab": {
          "base_uri": "https://localhost:8080/"
        },
        "id": "PM_BLNe-oIZ6",
        "outputId": "3a68b063-514e-4e76-f9bd-b80c125d8ba5"
      },
      "execution_count": null,
      "outputs": [
        {
          "output_type": "execute_result",
          "data": {
            "text/plain": [
              "('#coronavirusoutbreak', '###covid-19')"
            ]
          },
          "metadata": {},
          "execution_count": 21
        }
      ]
    },
    {
      "cell_type": "markdown",
      "source": [
        "В целом он справился неплохо, выделил хештеги связанные с коронавирусом, но не выделил информацию конкретно про твит, почему этот твит негативно окрашен и какие слова на это влияют."
      ],
      "metadata": {
        "id": "d5MSSZvyqDrO"
      }
    },
    {
      "cell_type": "code",
      "source": [
        "from sklearn.feature_extraction.text import TfidfVectorizer\n",
        "tv = TfidfVectorizer()\n",
        "XTV = tv.fit_transform(tokens_end)\n",
        "vec = tv.transform([tweet])\n",
        "array = vec.toarray()\n",
        "max_index = array.argmax()\n",
        "min_index = array[array > 0].argmin()\n",
        "features = tv.get_feature_names_out()\n",
        "max_token = features[max_index]\n",
        "min_token = features[min_index]\n",
        "\n",
        "\n",
        "max_token, min_token"
      ],
      "metadata": {
        "colab": {
          "base_uri": "https://localhost:8080/"
        },
        "id": "WfBTqg_tqfN_",
        "outputId": "746ab955-9478-43e8-8817-abf8302e7055"
      },
      "execution_count": null,
      "outputs": [
        {
          "output_type": "execute_result",
          "data": {
            "text/plain": [
              "('brainless', '000s')"
            ]
          },
          "metadata": {},
          "execution_count": 22
        }
      ]
    },
    {
      "cell_type": "markdown",
      "source": [
        "Я считаю что 'brainless' не самый важный токен в твите, более важно было выделить что человек переживает о ситуации с едой во Франции. Тем не менее данный токен хорошо показывает эмоциональную окраску в твите."
      ],
      "metadata": {
        "id": "NbmqtU79umS3"
      }
    },
    {
      "cell_type": "code",
      "source": [
        "Good_tweets = X_train[X_train['OriginalTweet'].apply(lambda x: 'good' in x) & (X_train['Sentiment'] == 1)]\n",
        "Good_tweets.sample(10)"
      ],
      "metadata": {
        "colab": {
          "base_uri": "https://localhost:8080/",
          "height": 363
        },
        "id": "Wy1-DlNtu3qg",
        "outputId": "b073af10-5c6c-4bcf-9b9f-5a4d64769fab"
      },
      "execution_count": null,
      "outputs": [
        {
          "output_type": "execute_result",
          "data": {
            "text/plain": [
              "      UserName ScreenName                       Location     TweetAt  \\\n",
              "29188    39614      84566                Dundas, Ontario  09-04-2020   \n",
              "16818    24274      69226                 Lagos, Nigeria  25-03-2020   \n",
              "15831    23046      67998                        unknown  24-03-2020   \n",
              "1381      5470      50422                       Tasmania  17-03-2020   \n",
              "10609    16667      61619  Vancouver Island BC, Canada ?  21-03-2020   \n",
              "23392    32378      77330                    Houston, TX  04-04-2020   \n",
              "14603    21545      66497                            UK.  23-03-2020   \n",
              "12540    19001      63953                        unknown  22-03-2020   \n",
              "29791    40374      85326                    Chicago, IL  09-04-2020   \n",
              "3966      8621      53573                        unknown  18-03-2020   \n",
              "\n",
              "                                           OriginalTweet Sentiment  \n",
              "29188  Nice to see the good folks @TERRAatHome hustli...         1  \n",
              "16818  Knowing how to do something is good Knowing ho...         1  \n",
              "15831  @LindleywoodUK @lewis_goodall So if you know t...         1  \n",
              "1381   All normal bread sold out at local supermarket...         1  \n",
              "10609  Did a little online shopping today and support...         1  \n",
              "23392  Amid all the panic and worry, allow yourself t...         1  \n",
              "14603  Thank goodness for online shopping #COVID?19 @...         1  \n",
              "12540  First day working as a checkout girl today.\\r\\...         1  \n",
              "29791  Clean, paint, sanitize ???\\r\\r\\n.\\r\\r\\n.\\r\\r\\n...         1  \n",
              "3966   Me at the grocery store Okay I ve got ample sn...         1  "
            ],
            "text/html": [
              "\n",
              "  <div id=\"df-34af3bc9-857c-4ff0-a949-c2ee7390360e\" class=\"colab-df-container\">\n",
              "    <div>\n",
              "<style scoped>\n",
              "    .dataframe tbody tr th:only-of-type {\n",
              "        vertical-align: middle;\n",
              "    }\n",
              "\n",
              "    .dataframe tbody tr th {\n",
              "        vertical-align: top;\n",
              "    }\n",
              "\n",
              "    .dataframe thead th {\n",
              "        text-align: right;\n",
              "    }\n",
              "</style>\n",
              "<table border=\"1\" class=\"dataframe\">\n",
              "  <thead>\n",
              "    <tr style=\"text-align: right;\">\n",
              "      <th></th>\n",
              "      <th>UserName</th>\n",
              "      <th>ScreenName</th>\n",
              "      <th>Location</th>\n",
              "      <th>TweetAt</th>\n",
              "      <th>OriginalTweet</th>\n",
              "      <th>Sentiment</th>\n",
              "    </tr>\n",
              "  </thead>\n",
              "  <tbody>\n",
              "    <tr>\n",
              "      <th>29188</th>\n",
              "      <td>39614</td>\n",
              "      <td>84566</td>\n",
              "      <td>Dundas, Ontario</td>\n",
              "      <td>09-04-2020</td>\n",
              "      <td>Nice to see the good folks @TERRAatHome hustli...</td>\n",
              "      <td>1</td>\n",
              "    </tr>\n",
              "    <tr>\n",
              "      <th>16818</th>\n",
              "      <td>24274</td>\n",
              "      <td>69226</td>\n",
              "      <td>Lagos, Nigeria</td>\n",
              "      <td>25-03-2020</td>\n",
              "      <td>Knowing how to do something is good Knowing ho...</td>\n",
              "      <td>1</td>\n",
              "    </tr>\n",
              "    <tr>\n",
              "      <th>15831</th>\n",
              "      <td>23046</td>\n",
              "      <td>67998</td>\n",
              "      <td>unknown</td>\n",
              "      <td>24-03-2020</td>\n",
              "      <td>@LindleywoodUK @lewis_goodall So if you know t...</td>\n",
              "      <td>1</td>\n",
              "    </tr>\n",
              "    <tr>\n",
              "      <th>1381</th>\n",
              "      <td>5470</td>\n",
              "      <td>50422</td>\n",
              "      <td>Tasmania</td>\n",
              "      <td>17-03-2020</td>\n",
              "      <td>All normal bread sold out at local supermarket...</td>\n",
              "      <td>1</td>\n",
              "    </tr>\n",
              "    <tr>\n",
              "      <th>10609</th>\n",
              "      <td>16667</td>\n",
              "      <td>61619</td>\n",
              "      <td>Vancouver Island BC, Canada ?</td>\n",
              "      <td>21-03-2020</td>\n",
              "      <td>Did a little online shopping today and support...</td>\n",
              "      <td>1</td>\n",
              "    </tr>\n",
              "    <tr>\n",
              "      <th>23392</th>\n",
              "      <td>32378</td>\n",
              "      <td>77330</td>\n",
              "      <td>Houston, TX</td>\n",
              "      <td>04-04-2020</td>\n",
              "      <td>Amid all the panic and worry, allow yourself t...</td>\n",
              "      <td>1</td>\n",
              "    </tr>\n",
              "    <tr>\n",
              "      <th>14603</th>\n",
              "      <td>21545</td>\n",
              "      <td>66497</td>\n",
              "      <td>UK.</td>\n",
              "      <td>23-03-2020</td>\n",
              "      <td>Thank goodness for online shopping #COVID?19 @...</td>\n",
              "      <td>1</td>\n",
              "    </tr>\n",
              "    <tr>\n",
              "      <th>12540</th>\n",
              "      <td>19001</td>\n",
              "      <td>63953</td>\n",
              "      <td>unknown</td>\n",
              "      <td>22-03-2020</td>\n",
              "      <td>First day working as a checkout girl today.\\r\\...</td>\n",
              "      <td>1</td>\n",
              "    </tr>\n",
              "    <tr>\n",
              "      <th>29791</th>\n",
              "      <td>40374</td>\n",
              "      <td>85326</td>\n",
              "      <td>Chicago, IL</td>\n",
              "      <td>09-04-2020</td>\n",
              "      <td>Clean, paint, sanitize ???\\r\\r\\n.\\r\\r\\n.\\r\\r\\n...</td>\n",
              "      <td>1</td>\n",
              "    </tr>\n",
              "    <tr>\n",
              "      <th>3966</th>\n",
              "      <td>8621</td>\n",
              "      <td>53573</td>\n",
              "      <td>unknown</td>\n",
              "      <td>18-03-2020</td>\n",
              "      <td>Me at the grocery store Okay I ve got ample sn...</td>\n",
              "      <td>1</td>\n",
              "    </tr>\n",
              "  </tbody>\n",
              "</table>\n",
              "</div>\n",
              "    <div class=\"colab-df-buttons\">\n",
              "\n",
              "  <div class=\"colab-df-container\">\n",
              "    <button class=\"colab-df-convert\" onclick=\"convertToInteractive('df-34af3bc9-857c-4ff0-a949-c2ee7390360e')\"\n",
              "            title=\"Convert this dataframe to an interactive table.\"\n",
              "            style=\"display:none;\">\n",
              "\n",
              "  <svg xmlns=\"http://www.w3.org/2000/svg\" height=\"24px\" viewBox=\"0 -960 960 960\">\n",
              "    <path d=\"M120-120v-720h720v720H120Zm60-500h600v-160H180v160Zm220 220h160v-160H400v160Zm0 220h160v-160H400v160ZM180-400h160v-160H180v160Zm440 0h160v-160H620v160ZM180-180h160v-160H180v160Zm440 0h160v-160H620v160Z\"/>\n",
              "  </svg>\n",
              "    </button>\n",
              "\n",
              "  <style>\n",
              "    .colab-df-container {\n",
              "      display:flex;\n",
              "      gap: 12px;\n",
              "    }\n",
              "\n",
              "    .colab-df-convert {\n",
              "      background-color: #E8F0FE;\n",
              "      border: none;\n",
              "      border-radius: 50%;\n",
              "      cursor: pointer;\n",
              "      display: none;\n",
              "      fill: #1967D2;\n",
              "      height: 32px;\n",
              "      padding: 0 0 0 0;\n",
              "      width: 32px;\n",
              "    }\n",
              "\n",
              "    .colab-df-convert:hover {\n",
              "      background-color: #E2EBFA;\n",
              "      box-shadow: 0px 1px 2px rgba(60, 64, 67, 0.3), 0px 1px 3px 1px rgba(60, 64, 67, 0.15);\n",
              "      fill: #174EA6;\n",
              "    }\n",
              "\n",
              "    .colab-df-buttons div {\n",
              "      margin-bottom: 4px;\n",
              "    }\n",
              "\n",
              "    [theme=dark] .colab-df-convert {\n",
              "      background-color: #3B4455;\n",
              "      fill: #D2E3FC;\n",
              "    }\n",
              "\n",
              "    [theme=dark] .colab-df-convert:hover {\n",
              "      background-color: #434B5C;\n",
              "      box-shadow: 0px 1px 3px 1px rgba(0, 0, 0, 0.15);\n",
              "      filter: drop-shadow(0px 1px 2px rgba(0, 0, 0, 0.3));\n",
              "      fill: #FFFFFF;\n",
              "    }\n",
              "  </style>\n",
              "\n",
              "    <script>\n",
              "      const buttonEl =\n",
              "        document.querySelector('#df-34af3bc9-857c-4ff0-a949-c2ee7390360e button.colab-df-convert');\n",
              "      buttonEl.style.display =\n",
              "        google.colab.kernel.accessAllowed ? 'block' : 'none';\n",
              "\n",
              "      async function convertToInteractive(key) {\n",
              "        const element = document.querySelector('#df-34af3bc9-857c-4ff0-a949-c2ee7390360e');\n",
              "        const dataTable =\n",
              "          await google.colab.kernel.invokeFunction('convertToInteractive',\n",
              "                                                    [key], {});\n",
              "        if (!dataTable) return;\n",
              "\n",
              "        const docLinkHtml = 'Like what you see? Visit the ' +\n",
              "          '<a target=\"_blank\" href=https://colab.research.google.com/notebooks/data_table.ipynb>data table notebook</a>'\n",
              "          + ' to learn more about interactive tables.';\n",
              "        element.innerHTML = '';\n",
              "        dataTable['output_type'] = 'display_data';\n",
              "        await google.colab.output.renderOutput(dataTable, element);\n",
              "        const docLink = document.createElement('div');\n",
              "        docLink.innerHTML = docLinkHtml;\n",
              "        element.appendChild(docLink);\n",
              "      }\n",
              "    </script>\n",
              "  </div>\n",
              "\n",
              "\n",
              "<div id=\"df-9641cf52-a05e-4499-ad1b-91be3d0588b4\">\n",
              "  <button class=\"colab-df-quickchart\" onclick=\"quickchart('df-9641cf52-a05e-4499-ad1b-91be3d0588b4')\"\n",
              "            title=\"Suggest charts\"\n",
              "            style=\"display:none;\">\n",
              "\n",
              "<svg xmlns=\"http://www.w3.org/2000/svg\" height=\"24px\"viewBox=\"0 0 24 24\"\n",
              "     width=\"24px\">\n",
              "    <g>\n",
              "        <path d=\"M19 3H5c-1.1 0-2 .9-2 2v14c0 1.1.9 2 2 2h14c1.1 0 2-.9 2-2V5c0-1.1-.9-2-2-2zM9 17H7v-7h2v7zm4 0h-2V7h2v10zm4 0h-2v-4h2v4z\"/>\n",
              "    </g>\n",
              "</svg>\n",
              "  </button>\n",
              "\n",
              "<style>\n",
              "  .colab-df-quickchart {\n",
              "      --bg-color: #E8F0FE;\n",
              "      --fill-color: #1967D2;\n",
              "      --hover-bg-color: #E2EBFA;\n",
              "      --hover-fill-color: #174EA6;\n",
              "      --disabled-fill-color: #AAA;\n",
              "      --disabled-bg-color: #DDD;\n",
              "  }\n",
              "\n",
              "  [theme=dark] .colab-df-quickchart {\n",
              "      --bg-color: #3B4455;\n",
              "      --fill-color: #D2E3FC;\n",
              "      --hover-bg-color: #434B5C;\n",
              "      --hover-fill-color: #FFFFFF;\n",
              "      --disabled-bg-color: #3B4455;\n",
              "      --disabled-fill-color: #666;\n",
              "  }\n",
              "\n",
              "  .colab-df-quickchart {\n",
              "    background-color: var(--bg-color);\n",
              "    border: none;\n",
              "    border-radius: 50%;\n",
              "    cursor: pointer;\n",
              "    display: none;\n",
              "    fill: var(--fill-color);\n",
              "    height: 32px;\n",
              "    padding: 0;\n",
              "    width: 32px;\n",
              "  }\n",
              "\n",
              "  .colab-df-quickchart:hover {\n",
              "    background-color: var(--hover-bg-color);\n",
              "    box-shadow: 0 1px 2px rgba(60, 64, 67, 0.3), 0 1px 3px 1px rgba(60, 64, 67, 0.15);\n",
              "    fill: var(--button-hover-fill-color);\n",
              "  }\n",
              "\n",
              "  .colab-df-quickchart-complete:disabled,\n",
              "  .colab-df-quickchart-complete:disabled:hover {\n",
              "    background-color: var(--disabled-bg-color);\n",
              "    fill: var(--disabled-fill-color);\n",
              "    box-shadow: none;\n",
              "  }\n",
              "\n",
              "  .colab-df-spinner {\n",
              "    border: 2px solid var(--fill-color);\n",
              "    border-color: transparent;\n",
              "    border-bottom-color: var(--fill-color);\n",
              "    animation:\n",
              "      spin 1s steps(1) infinite;\n",
              "  }\n",
              "\n",
              "  @keyframes spin {\n",
              "    0% {\n",
              "      border-color: transparent;\n",
              "      border-bottom-color: var(--fill-color);\n",
              "      border-left-color: var(--fill-color);\n",
              "    }\n",
              "    20% {\n",
              "      border-color: transparent;\n",
              "      border-left-color: var(--fill-color);\n",
              "      border-top-color: var(--fill-color);\n",
              "    }\n",
              "    30% {\n",
              "      border-color: transparent;\n",
              "      border-left-color: var(--fill-color);\n",
              "      border-top-color: var(--fill-color);\n",
              "      border-right-color: var(--fill-color);\n",
              "    }\n",
              "    40% {\n",
              "      border-color: transparent;\n",
              "      border-right-color: var(--fill-color);\n",
              "      border-top-color: var(--fill-color);\n",
              "    }\n",
              "    60% {\n",
              "      border-color: transparent;\n",
              "      border-right-color: var(--fill-color);\n",
              "    }\n",
              "    80% {\n",
              "      border-color: transparent;\n",
              "      border-right-color: var(--fill-color);\n",
              "      border-bottom-color: var(--fill-color);\n",
              "    }\n",
              "    90% {\n",
              "      border-color: transparent;\n",
              "      border-bottom-color: var(--fill-color);\n",
              "    }\n",
              "  }\n",
              "</style>\n",
              "\n",
              "  <script>\n",
              "    async function quickchart(key) {\n",
              "      const quickchartButtonEl =\n",
              "        document.querySelector('#' + key + ' button');\n",
              "      quickchartButtonEl.disabled = true;  // To prevent multiple clicks.\n",
              "      quickchartButtonEl.classList.add('colab-df-spinner');\n",
              "      try {\n",
              "        const charts = await google.colab.kernel.invokeFunction(\n",
              "            'suggestCharts', [key], {});\n",
              "      } catch (error) {\n",
              "        console.error('Error during call to suggestCharts:', error);\n",
              "      }\n",
              "      quickchartButtonEl.classList.remove('colab-df-spinner');\n",
              "      quickchartButtonEl.classList.add('colab-df-quickchart-complete');\n",
              "    }\n",
              "    (() => {\n",
              "      let quickchartButtonEl =\n",
              "        document.querySelector('#df-9641cf52-a05e-4499-ad1b-91be3d0588b4 button');\n",
              "      quickchartButtonEl.style.display =\n",
              "        google.colab.kernel.accessAllowed ? 'block' : 'none';\n",
              "    })();\n",
              "  </script>\n",
              "</div>\n",
              "    </div>\n",
              "  </div>\n"
            ],
            "application/vnd.google.colaboratory.intrinsic+json": {
              "type": "dataframe",
              "repr_error": "0"
            }
          },
          "metadata": {},
          "execution_count": 23
        }
      ]
    },
    {
      "cell_type": "code",
      "source": [
        "ind = 8074\n",
        "tweet1 = X_train.loc[ind]['OriginalTweet']\n",
        "print(tweet1)\n",
        "vec = tv.transform([tweet1])\n",
        "array = vec.toarray()\n",
        "max_index = array.argmax()\n",
        "min_index = array[array > 0].argmin()\n",
        "features = tv.get_feature_names_out()\n",
        "max_token = features[max_index]\n",
        "min_token = features[min_index]\n",
        "\n",
        "\n",
        "max_token, min_token"
      ],
      "metadata": {
        "colab": {
          "base_uri": "https://localhost:8080/"
        },
        "id": "RITGiDpNvIwG",
        "outputId": "4b3cddc1-948f-4b97-a953-722c6246ae54"
      },
      "execution_count": null,
      "outputs": [
        {
          "output_type": "stream",
          "name": "stdout",
          "text": [
            "Grateful and praying for Medical care professionals journalists grocery store staff safety officials and first responders and all those who continue to work and risk their health and safety to care for the rest of the public they re champions of the common good\n"
          ]
        },
        {
          "output_type": "execute_result",
          "data": {
            "text/plain": [
              "('safety', '01')"
            ]
          },
          "metadata": {},
          "execution_count": 24
        }
      ]
    },
    {
      "cell_type": "markdown",
      "source": [
        "В принципе, вот здесь \"TfidfVectorizer\" выделяет неплохо важный токен, этот токен \"safety\", как раз-таки здесь идет речь о том как человек благодарен всем работающим людям во времена пандемии. Он говорит им спасибо за то что они обеспечивают его безопасность."
      ],
      "metadata": {
        "id": "CRy6LEefzNh9"
      }
    },
    {
      "cell_type": "code",
      "source": [
        "\n",
        "\n",
        "\n",
        "\n",
        "\n",
        "XCV_train, XCV_test, yCV_train, yCV_test = train_test_split(\n",
        "    XCV, y_train, test_size=0.3, random_state=0\n",
        ")\n",
        "XTV_train, XTV_test, yTV_train, yTV_test = train_test_split(\n",
        "    XTV, y_train, test_size=0.3, random_state=0\n",
        ")\n",
        "yTV_train = yTV_train.astype('int')\n",
        "yCV_train = yCV_train.astype('int')\n",
        "yTV_test = yTV_test.astype('int')\n",
        "yCV_test = yCV_test.astype('int')\n",
        "\n"
      ],
      "metadata": {
        "id": "ZkPwPIpaz1Jz"
      },
      "execution_count": null,
      "outputs": []
    },
    {
      "cell_type": "code",
      "source": [
        "from sklearn.linear_model import LogisticRegression\n",
        "from sklearn.metrics import accuracy_score\n",
        "logXTV = LogisticRegression(max_iter = 1000)\n",
        "logXCV = LogisticRegression(max_iter = 1000)\n",
        "\n",
        "logXTV.fit(XTV_train, yTV_train)\n",
        "logXCV.fit(XCV_train, yCV_train)\n",
        "predXTV_train = logXTV.predict(XTV_train)\n",
        "predXCV_train = logXCV.predict(XCV_train)\n",
        "predXTV_test = logXTV.predict(XTV_test)\n",
        "predXCV_test = logXCV.predict(XCV_test)\n",
        "accuracyXTV = accuracy_score(yTV_train, predXTV_train)\n",
        "accuracyXCV = accuracy_score(yCV_train, predXCV_train)\n",
        "accuracyXTV_test = accuracy_score(yTV_test, predXTV_test)\n",
        "accuracyXCV_test = accuracy_score(yCV_test, predXCV_test)\n",
        "print(\"Качество на XTV_train:\", accuracyXTV)\n",
        "print(\"Качество на XCV_train:\", accuracyXCV)\n",
        "print(\"Качество на XTV_test:\", accuracyXTV_test)\n",
        "print(\"Качество на XCV_test:\", accuracyXCV_test)"
      ],
      "metadata": {
        "colab": {
          "base_uri": "https://localhost:8080/"
        },
        "id": "MpH6-2Uh10Ak",
        "outputId": "d69e67dd-88a8-4a7b-dae3-2bbfe55ea90d"
      },
      "execution_count": null,
      "outputs": [
        {
          "output_type": "stream",
          "name": "stdout",
          "text": [
            "Качество на XTV_train: 0.9180447916031\n",
            "Качество на XCV_train: 0.9869408677610301\n",
            "Качество на XTV_test: 0.8309839100099673\n",
            "Качество на XCV_test: 0.8621671650291898\n"
          ]
        }
      ]
    },
    {
      "cell_type": "markdown",
      "source": [
        "Лучше справился на всех данных CountVectorizer и на трейне, и на тесте он выдает лучший результат. Сами модели получились достаточно хорошие в обоих случаях результат на тестовых данных выше 80%"
      ],
      "metadata": {
        "id": "Ijg3_07LqU9V"
      }
    },
    {
      "cell_type": "code",
      "source": [
        "from nltk.stem.snowball import SnowballStemmer\n",
        "def custom_stem_tokenizer(text):\n",
        "  stemmer = SnowballStemmer(\"english\")\n",
        "  tokens_to_del = stopwords.words(\"english\")\n",
        "  text = text.lower()\n",
        "  tw = TweetTokenizer()\n",
        "  tokens = tw.tokenize(text)\n",
        "  tokens_stemmed = [stemmer.stem(i) for i in tokens]\n",
        "\n",
        "  new_tokens = []\n",
        "  for i in tokens_stemmed:\n",
        "    if (i not in punctuation) and (\"https://t.co\" not in i) and (i not in tokens_to_del) and (len(i) > 1 or (len(i) == 1 and ord(i) < 128)):\n",
        "      new_tokens.append(i)\n",
        "  return new_tokens\n"
      ],
      "metadata": {
        "id": "DvWsI9kCCmzl"
      },
      "execution_count": null,
      "outputs": []
    },
    {
      "cell_type": "code",
      "source": [
        "print(custom_stem_tokenizer('This is sample text!!!! @Sample_text I, \\x92\\x92 https://t.co/sample  #sampletext adding more words to check stemming'))\n"
      ],
      "metadata": {
        "colab": {
          "base_uri": "https://localhost:8080/"
        },
        "id": "-Q64JQYcLS6Y",
        "outputId": "b0642f79-6547-4eb8-8685-c9798b81c85a"
      },
      "execution_count": null,
      "outputs": [
        {
          "output_type": "stream",
          "name": "stdout",
          "text": [
            "['sampl', 'text', '@sample_text', '#sampletext', 'ad', 'word', 'check', 'stem']\n"
          ]
        }
      ]
    },
    {
      "cell_type": "code",
      "source": [
        "cv = CountVectorizer(tokenizer=custom_stem_tokenizer)\n",
        "cv.fit_transform(tokens_end)\n",
        "print(\"Размер словаря:\", len(cv.vocabulary_))"
      ],
      "metadata": {
        "colab": {
          "base_uri": "https://localhost:8080/"
        },
        "id": "AWHe6lJ5L3ax",
        "outputId": "739cc36f-bfc4-4d47-d9b2-f32780a3ded7"
      },
      "execution_count": null,
      "outputs": [
        {
          "output_type": "stream",
          "name": "stderr",
          "text": [
            "/usr/local/lib/python3.10/dist-packages/sklearn/feature_extraction/text.py:528: UserWarning: The parameter 'token_pattern' will not be used since 'tokenizer' is not None'\n",
            "  warnings.warn(\n"
          ]
        },
        {
          "output_type": "stream",
          "name": "stdout",
          "text": [
            "Размер словаря: 36628\n"
          ]
        }
      ]
    },
    {
      "cell_type": "markdown",
      "source": [
        "Размер словаря сильно упал."
      ],
      "metadata": {
        "id": "KR8bSWBWPitk"
      }
    },
    {
      "cell_type": "code",
      "source": [
        "cv_stem = CountVectorizer(tokenizer=custom_stem_tokenizer)\n",
        "CVstem = cv_stem.fit_transform(tokens_end)\n",
        "tf_stem = TfidfVectorizer(tokenizer=custom_stem_tokenizer)\n",
        "TFstem = tf_stem.fit_transform(tokens_end)\n",
        "XCV_train, XCV_test, yCV_train, yCV_test = train_test_split(\n",
        "    CVstem, y_train, test_size=0.3, random_state=0\n",
        ")\n",
        "XTV_train, XTV_test, yTV_train, yTV_test = train_test_split(\n",
        "    TFstem, y_train, test_size=0.3, random_state=0\n",
        ")\n",
        "yTV_train = yTV_train.astype('int')\n",
        "yCV_train = yCV_train.astype('int')\n",
        "yTV_test = yTV_test.astype('int')\n",
        "yCV_test = yCV_test.astype('int')\n",
        "logXTV = LogisticRegression(max_iter = 1000)\n",
        "logXCV = LogisticRegression(max_iter = 1000)\n",
        "\n",
        "logXTV.fit(XTV_train, yTV_train)\n",
        "logXCV.fit(XCV_train, yCV_train)\n",
        "predXTV_train = logXTV.predict(XTV_train)\n",
        "predXCV_train = logXCV.predict(XCV_train)\n",
        "predXTV_test = logXTV.predict(XTV_test)\n",
        "predXCV_test = logXCV.predict(XCV_test)\n",
        "accuracyXTV = accuracy_score(yTV_train, predXTV_train)\n",
        "accuracyXCV = accuracy_score(yCV_train, predXCV_train)\n",
        "accuracyXTV_test = accuracy_score(yTV_test, predXTV_test)\n",
        "accuracyXCV_test = accuracy_score(yCV_test, predXCV_test)\n",
        "print(\"Качество на XTV_train:\", accuracyXTV)\n",
        "print(\"Качество на XCV_train:\", accuracyXCV)\n",
        "print(\"Качество на XTV_test:\", accuracyXTV_test)\n",
        "print(\"Качество на XCV_test:\", accuracyXCV_test)\n"
      ],
      "metadata": {
        "colab": {
          "base_uri": "https://localhost:8080/"
        },
        "id": "Gh8lOUtNN-5t",
        "outputId": "022ad7a2-03db-4e6e-961c-737cd49dfc32"
      },
      "execution_count": null,
      "outputs": [
        {
          "output_type": "stream",
          "name": "stdout",
          "text": [
            "Качество на XTV_train: 0.9180447916031\n",
            "Качество на XCV_train: 0.9777262464148411\n",
            "Качество на XTV_test: 0.8440837249038873\n",
            "Качество на XCV_test: 0.8596041577673359\n"
          ]
        }
      ]
    },
    {
      "cell_type": "markdown",
      "source": [
        "Опять же, размер словаря сильно уменьшился, уменьшилось количество признаков. Точность TfidfVectorizer на train не изменилась , но изменилась точность у Countvectorizer'a. В моем случае она немного упала. Видимо у каких-то слов получился один и тот же корень, который в итоге был неправильно интерпретирован. Тем не менее точность Tfifd выросла на test, а у CountVectorizer немного упала. Смысл применять стемминг есть, он уменьшит размер словаря, что увеличит скорость всех вычислений, но это может привести к ухудшению точности."
      ],
      "metadata": {
        "id": "b3uNyUwBQPwl"
      }
    },
    {
      "cell_type": "code",
      "source": [
        "cv_df = CountVectorizer(tokenizer=custom_stem_tokenizer,\n",
        "                        max_df=8000\n",
        "                        ).fit(\n",
        "                            tokens_end\n",
        "                            )\n",
        "\n",
        "print(len(cv_df.vocabulary_))\n"
      ],
      "metadata": {
        "colab": {
          "base_uri": "https://localhost:8080/"
        },
        "id": "ZTkb_qbTQwq1",
        "outputId": "31bc20ab-73a9-4030-9bad-e7a24f758bf6"
      },
      "execution_count": null,
      "outputs": [
        {
          "output_type": "stream",
          "name": "stderr",
          "text": [
            "/usr/local/lib/python3.10/dist-packages/sklearn/feature_extraction/text.py:528: UserWarning: The parameter 'token_pattern' will not be used since 'tokenizer' is not None'\n",
            "  warnings.warn(\n"
          ]
        },
        {
          "output_type": "stream",
          "name": "stdout",
          "text": [
            "36627\n"
          ]
        }
      ]
    },
    {
      "cell_type": "markdown",
      "source": [
        "У меня параметр получился 8000, так как только одно слово (#coronavirus) в нашем наборе данных встречается чаще чем это значение. Именно его мы и исключили этим параметром."
      ],
      "metadata": {
        "id": "YXQuVGeyUZlN"
      }
    },
    {
      "cell_type": "code",
      "source": [
        "cv_df = CountVectorizer(tokenizer=custom_stem_tokenizer,\n",
        "                        min_df= 11, max_df = 8000).fit(tokens_end)\n",
        "print(cv_df)\n",
        "CVDF = cv_df.fit_transform(tokens_end)\n",
        "print(len(cv_df.vocabulary_))\n"
      ],
      "metadata": {
        "colab": {
          "base_uri": "https://localhost:8080/"
        },
        "id": "4dITzeSpVXhS",
        "outputId": "ef7b5f07-da18-41e4-e971-4802ceed1e13"
      },
      "execution_count": null,
      "outputs": [
        {
          "output_type": "stream",
          "name": "stdout",
          "text": [
            "CountVectorizer(max_df=8000, min_df=11,\n",
            "                tokenizer=<function custom_stem_tokenizer at 0x7d023ba57d00>)\n",
            "3700\n"
          ]
        }
      ]
    },
    {
      "cell_type": "code",
      "source": [
        "XCVDF_train, XCVDF_test, yCVDF_train, yCVDF_test = train_test_split(\n",
        "    CVDF, y_train, test_size=0.3, random_state=0\n",
        ")\n",
        "\n",
        "\n",
        "yCVDF_train = yCVDF_train.astype('int')\n",
        "\n",
        "logXCVDF = LogisticRegression(max_iter = 1000)\n",
        "logXCVDF.fit(XCVDF_train, yCVDF_train)\n",
        "predXCVDF_train = logXCVDF.predict(XCVDF_train)\n",
        "accuracyXCVDF = accuracy_score(yCVDF_train, predXCVDF_train)\n",
        "print(\"Точность на XCV_arr:\", accuracyXCVDF)\n",
        "\n"
      ],
      "metadata": {
        "colab": {
          "base_uri": "https://localhost:8080/"
        },
        "id": "A5_CWrssWym0",
        "outputId": "12f12c16-cb96-41e1-ba72-db5b68da05e3"
      },
      "execution_count": null,
      "outputs": [
        {
          "output_type": "stream",
          "name": "stdout",
          "text": [
            "Точность на XCV_arr: 0.9372063220845792\n"
          ]
        }
      ]
    },
    {
      "cell_type": "markdown",
      "source": [
        "Хоть мы и уменьшили очень сильно количество слов в словаре, это также повлекло за собой уменьшение точности."
      ],
      "metadata": {
        "id": "rOcsPDI9VulK"
      }
    },
    {
      "cell_type": "code",
      "source": [
        "from sklearn.preprocessing import StandardScaler\n",
        "normalizer = StandardScaler(with_mean = False)\n",
        "CVDF_transformed = normalizer.fit_transform(CVDF)\n",
        "\n",
        "X_train1, X_test1, y_train1, y_test1 = train_test_split(CVDF_transformed, y_train, test_size=0.3, random_state=0)\n",
        "reg = LogisticRegression(max_iter=1000)\n",
        "\n",
        "y_train1 = y_train1.astype('int')\n",
        "y_test1 = y_test1.astype('int')\n",
        "reg.fit(X_train1, y_train1)\n",
        "y_pred = reg.predict(X_train1)\n",
        "y_pred1 = reg.predict(X_test1)\n",
        "print(f\"Accuracy train: {accuracy_score(y_train1, y_pred)}\")\n",
        "print(f\"Accuracy test: {accuracy_score(y_test1, y_pred1)}\")\n",
        "\n",
        "\n",
        "names = cv.get_feature_names_out()\n",
        "coefs = reg.coef_[0]\n",
        "pos_coefs = coefs[coefs.argsort()[-10:]]\n",
        "neg_coefs = coefs[coefs.argsort()[:10]]\n",
        "pos_tokens = names[coefs.argsort()[-10:]]\n",
        "neg_tokens = names[coefs.argsort()[:10]]\n",
        "\n",
        "\n",
        "print(pos_tokens, pos_coefs)\n",
        "print(neg_tokens, neg_coefs)\n",
        "\n",
        "figure, (chart1, chart0) = plt.subplots(1, 2, figsize=(15, 5))\n",
        "chart0.barh(pos_tokens, pos_coefs, color = \"green\")\n",
        "chart0.set_title('Tokens with positive coefs')\n",
        "chart0.set_xlabel('Coefs')\n",
        "chart0.set_ylabel('Tokens')\n",
        "chart1.barh(neg_tokens, neg_coefs, color = \"red\")\n",
        "chart1.set_title('Tokens with negative coefs')\n",
        "chart1.set_xlabel('Coefs')\n",
        "chart1.set_ylabel('Tokens')\n",
        "plt.subplots_adjust(wspace=0.5)\n",
        "\n",
        "\n"
      ],
      "metadata": {
        "id": "d4rd37AhYj0b",
        "colab": {
          "base_uri": "https://localhost:8080/"
        },
        "outputId": "51e14709-a0ee-4e26-910f-f1a15f0f6694"
      },
      "execution_count": null,
      "outputs": [
        {
          "output_type": "stream",
          "name": "stdout",
          "text": [
            "Accuracy train: 0.9760175749069384\n",
            "Accuracy test: 0.798661540652143\n",
            "['#econom' '#coronavirusprotection2020' '#eateri' '#fuckoffcoronavirus'\n",
            " '#curfewinkenya' '#coulddomor' '#blono' '#coronavillain' '#generalconfer'\n",
            " '#coronawestchest'] [1.41705994 1.42115249 1.45299513 1.46775814 1.82418776 1.9294653\n",
            " 1.99847547 2.05624838 2.11565448 2.40524669]\n",
            "['#ccpa' '#dortmund' '#coronaupdatesinindia' '#ferret' '#coronavirus-rel'\n",
            " '#crazytimesâ' '#chinaliedpeopledi' '#boilerup' '#cdcli' '#cornholio'] [-3.35622157 -2.37464035 -1.89558857 -1.72731708 -1.63027584 -1.59780582\n",
            " -1.41868297 -1.41599468 -1.26835739 -1.2294797 ]\n"
          ]
        },
        {
          "output_type": "display_data",
          "data": {
            "text/plain": [
              "<Figure size 1500x500 with 2 Axes>"
            ],
            "image/png": "[encoded data removed]"
          },
          "metadata": {}
        }
      ]
    },
    {
      "cell_type": "markdown",
      "source": [
        "Большее позитивное влияние оказали токены, во-первых, осмысленные, связанные с топиком, во-вторых, достаточно эмоционально окрашенные, в-третьих, это все хештеги. Отрицательные веса у странных хештегов, не несущих особый смысл."
      ],
      "metadata": {
        "id": "7DebzxuSk2lY"
      }
    },
    {
      "cell_type": "markdown",
      "source": [
        "Я очень сомневаюсь, что ScreenName и UserName могут быть хоть как-то полезны, ведь неважно какой закодированный номер у пользователя, это никак не влияет на эмоциональную окраску твита."
      ],
      "metadata": {
        "id": "T0BM2XPBo_A8"
      }
    },
    {
      "cell_type": "code",
      "source": [
        "from sklearn.preprocessing import OneHotEncoder\n",
        "from scipy.sparse import hstack\n",
        "scaler = StandardScaler()\n",
        "screen = np.array(X_train['ScreenName'])\n",
        "\n",
        "user = np.array(X_train['UserName'])\n",
        "enc = OneHotEncoder()\n",
        "screen_transformed = enc.fit_transform(screen.reshape(-1,1))\n",
        "user_transformed = enc.fit_transform(user.reshape(-1,1))\n",
        "print(user_transformed.shape)\n",
        "XStacked = hstack([CVDF_transformed, screen_transformed, user_transformed])\n",
        "X_train2, X_test2, y_train2, y_test2 = train_test_split(XStacked, y_train, test_size=0.3, random_state=0)\n",
        "y_train2 = y_train2.astype('int')\n",
        "y_test2 = y_test2.astype('int')\n",
        "model = LogisticRegression(max_iter=1000)\n",
        "model.fit(X_train2, y_train2)\n",
        "y_pred = model.predict(X_train2)\n",
        "y_pred1 = model.predict(X_test2)\n",
        "print(f\"Accuracy: {accuracy_score(y_train2, y_pred)}\")\n",
        "print(f\"Accuracy: {accuracy_score(y_test2, y_pred1)}\")"
      ],
      "metadata": {
        "colab": {
          "base_uri": "https://localhost:8080/"
        },
        "id": "jdR4cETHpa-j",
        "outputId": "0598f59e-1607-4d51-9dc2-8eb501ad2603"
      },
      "execution_count": null,
      "outputs": [
        {
          "output_type": "stream",
          "name": "stdout",
          "text": [
            "(23410, 23410)\n",
            "Accuracy: 0.9871239397083054\n",
            "Accuracy: 0.79994304428307\n"
          ]
        }
      ]
    },
    {
      "cell_type": "markdown",
      "source": [
        "Как я и говорил эти признаки почти ни на что не влияют, качество почти не изменилось"
      ],
      "metadata": {
        "id": "BiaIbkwl1Hdi"
      }
    },
    {
      "cell_type": "code",
      "source": [
        "from datetime import datetime\n",
        "\n",
        "X_train['TweetAt'] = pd.to_datetime(X_train['TweetAt'],format='mixed')\n",
        "\n",
        "positive_tweets = X_train.loc[X_train['Sentiment'] == 1, 'TweetAt']\n",
        "negative_tweets = X_train.loc[X_train['Sentiment'] == 0, 'TweetAt']\n",
        "plt.figure(figsize=(15, 10))\n",
        "plt.hist([positive_tweets, negative_tweets], color=['green', 'red'], bins=30, alpha=0.7, label=['Positive', 'Negative'])\n",
        "plt.xlabel('Date')\n",
        "plt.ylabel('Frequency')\n",
        "plt.legend()\n",
        "\n"
      ],
      "metadata": {
        "colab": {
          "base_uri": "https://localhost:8080/"
        },
        "id": "jxcPJtPL1QjQ",
        "outputId": "258c6d2a-60f1-4ce9-9e9b-b22c052c23e2"
      },
      "execution_count": null,
      "outputs": [
        {
          "output_type": "execute_result",
          "data": {
            "text/plain": [
              "<matplotlib.legend.Legend at 0x7d0238edb1f0>"
            ]
          },
          "metadata": {},
          "execution_count": 36
        },
        {
          "output_type": "display_data",
          "data": {
            "text/plain": [
              "<Figure size 1500x1000 with 1 Axes>"
            ],
            "image/png": "[encoded data removed]"
          },
          "metadata": {}
        }
      ]
    },
    {
      "cell_type": "markdown",
      "source": [
        "Этот признак также не будет полезен, так как ни на одном временном промежутке не выделяется какое-либо из значений целевой переменной. Везде количество отрицательных твитов +- равно количеству положительных."
      ],
      "metadata": {
        "id": "DXWhoCPRzZnr"
      }
    },
    {
      "cell_type": "code",
      "source": [
        "len(X_train['Location'].unique())"
      ],
      "metadata": {
        "colab": {
          "base_uri": "https://localhost:8080/"
        },
        "id": "NERSHN0GzOm6",
        "outputId": "b4654af8-0922-4fef-e7e7-71b02a14205e"
      },
      "execution_count": null,
      "outputs": [
        {
          "output_type": "execute_result",
          "data": {
            "text/plain": [
              "7950"
            ]
          },
          "metadata": {},
          "execution_count": 37
        }
      ]
    },
    {
      "cell_type": "code",
      "source": [
        "top10_location = X_train['Location'].value_counts()[1:11].index.tolist()\n",
        "location_nums = [i for i in X_train['Location'] if i in top10_location]\n",
        "plt.figure(figsize=(15, 10))\n",
        "\n",
        "plt.hist(location_nums)\n",
        "\n",
        "\n",
        "\n",
        "\n"
      ],
      "metadata": {
        "colab": {
          "base_uri": "https://localhost:8080/"
        },
        "id": "8a4Z28n80Pjn",
        "outputId": "35b0b398-60b1-460f-bfd5-c83eab348747"
      },
      "execution_count": null,
      "outputs": [
        {
          "output_type": "execute_result",
          "data": {
            "text/plain": [
              "(array([153., 295., 222., 301., 133., 204., 223., 274., 118., 154.]),\n",
              " array([0. , 0.9, 1.8, 2.7, 3.6, 4.5, 5.4, 6.3, 7.2, 8.1, 9. ]),\n",
              " <BarContainer object of 10 artists>)"
            ]
          },
          "metadata": {},
          "execution_count": 38
        },
        {
          "output_type": "display_data",
          "data": {
            "text/plain": [
              "<Figure size 1500x1000 with 1 Axes>"
            ],
            "image/png": "[encoded data removed]"
          },
          "metadata": {}
        }
      ]
    },
    {
      "cell_type": "code",
      "source": [
        "def widerLocation(location):\n",
        "  return location.split(',')[-1]\n",
        "X_train['WiderLocation'] = X_train['Location'].apply(widerLocation)\n",
        "print(len(X_train['WiderLocation'].unique()))\n",
        "top10_location = X_train['WiderLocation'].value_counts()[1:11].index.tolist()\n",
        "location_nums = [i for i in X_train['WiderLocation'] if i in top10_location]\n",
        "plt.figure(figsize=(15, 10))\n",
        "\n",
        "plt.hist(location_nums)\n"
      ],
      "metadata": {
        "colab": {
          "base_uri": "https://localhost:8080/"
        },
        "id": "R_z62cyVB6v7",
        "outputId": "2c906cb5-e051-42e6-e6c2-1ee24cb473a7"
      },
      "execution_count": null,
      "outputs": [
        {
          "output_type": "stream",
          "name": "stdout",
          "text": [
            "5164\n"
          ]
        },
        {
          "output_type": "execute_result",
          "data": {
            "text/plain": [
              "(array([247., 295., 230., 302., 836., 833., 383., 383., 597., 260.]),\n",
              " array([0. , 0.9, 1.8, 2.7, 3.6, 4.5, 5.4, 6.3, 7.2, 8.1, 9. ]),\n",
              " <BarContainer object of 10 artists>)"
            ]
          },
          "metadata": {},
          "execution_count": 39
        },
        {
          "output_type": "display_data",
          "data": {
            "text/plain": [
              "<Figure size 1500x1000 with 1 Axes>"
            ],
            "image/png": "[encoded data removed]"
          },
          "metadata": {}
        }
      ]
    },
    {
      "cell_type": "code",
      "source": [
        "encoder = OneHotEncoder(sparse = False)\n",
        "\n",
        "values = X_train['WiderLocation'].value_counts()\n",
        "more_than_1 = values[values > 1].index.tolist()\n",
        "print(\"Встречаются более одного раза:\", len(more_than_1))\n",
        "data_dum = pd.get_dummies(X_train['WiderLocation'].apply(lambda x: x if x in more_than_1 else 'Unknown'))\n",
        "\n",
        "X_encoded = pd.concat([X_train.drop(columns=['WiderLocation']), data_dum], axis=1)\n",
        "\n",
        "\n",
        "\n",
        "\n",
        "XStacked = hstack([XStacked, data_dum])\n",
        "X_train2, X_test2, y_train2, y_test2 = train_test_split(XStacked, y_train, test_size=0.3, random_state=0)\n",
        "y_train2 = y_train2.astype('int')\n",
        "y_test2 = y_test2.astype('int')\n",
        "model = LogisticRegression(max_iter=1000)\n",
        "model.fit(X_train2, y_train2)\n",
        "y_pred = model.predict(X_train2)\n",
        "y_pred1 = model.predict(X_test2)\n",
        "print(f\"Accuracy: {accuracy_score(y_train2, y_pred)}\")\n",
        "print(f\"Accuracy: {accuracy_score(y_test2, y_pred1)}\")\n",
        "\n",
        "\n"
      ],
      "metadata": {
        "colab": {
          "base_uri": "https://localhost:8080/"
        },
        "id": "SxQiyY5nFJ89",
        "outputId": "da207cf5-3ff0-4607-f8f0-7b732add97e5"
      },
      "execution_count": null,
      "outputs": [
        {
          "output_type": "stream",
          "name": "stdout",
          "text": [
            "Встречаются более одного раза: 1160\n",
            "Accuracy: 0.988832611216208\n",
            "Accuracy: 0.7978072048981917\n"
          ]
        }
      ]
    },
    {
      "cell_type": "markdown",
      "source": [
        "Данный признак также оказался не особо полезным\n"
      ],
      "metadata": {
        "id": "CVvhU0jGfiAI"
      }
    },
    {
      "cell_type": "code",
      "source": [],
      "metadata": {
        "id": "eeMzKnnnuSr0"
      },
      "execution_count": null,
      "outputs": []
    },
    {
      "cell_type": "markdown",
      "source": [
        "Макаров Иван 9 группа"
      ],
      "metadata": {
        "id": "gvIBYtkbf3c8"
      }
    }
  ]
}